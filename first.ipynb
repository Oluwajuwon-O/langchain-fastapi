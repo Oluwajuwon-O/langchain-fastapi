{
 "cells": [
  {
   "cell_type": "code",
   "execution_count": null,
   "id": "a863975a-1158-4dd0-9adb-8f32ae436e8c",
   "metadata": {},
   "outputs": [],
   "source": [
    "import os\n",
    "from langchain.llms.openai import OpenAI\n",
    "from langchain_openai import ChatOpenAI\n",
    "from langchain.agents import create_sql_agent\n",
    "from langchain.agents.agent_toolkits import SQLDatabaseToolkit\n",
    "from langchain.agents import AgentExecutor\n",
    "from langchain.tools import Tool\n",
    "from langchain.sql_database import SQLDatabase\n",
    "\n",
    "from dotenv import load_dotenv\n",
    "load_dotenv()\n",
    "\n",
    "class WeatherAPI:\n",
    "    def __init__(self, api_key):\n",
    "        self.api_key = api_key\n",
    "\n",
    "    def get_weather(self, city):\n",
    "        url = f\"https://api.openweathermap.org/data/2.5/weather?q={city}&appid={self.api_key}\"\n",
    "        response = requests.get(url)\n",
    "        if response.status_code == 200:\n",
    "            data = response.json()\n",
    "            return data\n",
    "        else:\n",
    "            return 'error'\n",
    "\n",
    "weather_api = WeatherAPI(os.environ['OPENWEATHER_API_KEY'])\n",
    "\n",
    "def fetch_weather_info(city):\n",
    "    main = weather_data['main']\n",
    "    weather_desc = weather_data['weather'][0]['description']\n",
    "    return f\"The weather in {city} is {weather_desc} with a temperature of {main['temp']}°C.\"\n",
    "    \n",
    "\n",
    "\n",
    "weather_tool = Tool(name='fetch_weather_data',description = 'gets weather info', func = fetch_weather_info)\n",
    "\n",
    "\n",
    "\n",
    "db = SQLDatabase.from_uri('sqlite:///northwind.db')\n",
    "\n",
    "llm = ChatOpenAI(model='gpt-3.5-turbo', temperature = 0)\n",
    "toolkit = SQLDatabaseToolkit(db= db, llm= llm, extra_tools = [weather_tool])\n",
    "agent_executor = create_sql_agent(llm= llm,\n",
    "                                  toolkit= toolkit, \n",
    "                                  verbose= False)\n",
    "\n",
    "result = agent_executor.invoke('What is the weather in London')\n",
    "\n",
    "result"
   ]
  },
  {
   "cell_type": "code",
   "execution_count": 65,
   "id": "ead2c16b-e6e0-4ac2-9101-b8b48bc47fbc",
   "metadata": {},
   "outputs": [
    {
     "name": "stdout",
     "output_type": "stream",
     "text": [
      "{'input': 'What is the weather in London', 'output': 'The weather data is not available in the database.'}\n"
     ]
    }
   ],
   "source": [
    "import os\n",
    "import requests\n",
    "from langchain.llms.openai import OpenAI\n",
    "from langchain_openai import ChatOpenAI\n",
    "from langchain.agents import create_sql_agent\n",
    "from langchain.agents.agent_toolkits import SQLDatabaseToolkit\n",
    "from langchain.agents import AgentExecutor\n",
    "from langchain.tools import Tool\n",
    "from langchain.sql_database import SQLDatabase\n",
    "from dotenv import load_dotenv\n",
    "\n",
    "# Load environment variables\n",
    "load_dotenv()\n",
    "\n",
    "# WeatherAPI class to interact with OpenWeather API\n",
    "class WeatherAPI:\n",
    "    def __init__(self, api_key):\n",
    "        self.api_key = api_key\n",
    "\n",
    "    def get_weather(self, city):\n",
    "        url = f\"https://api.openweathermap.org/data/2.5/weather?q={city}&appid={self.api_key}&units=metric\"\n",
    "        response = requests.get(url)\n",
    "        if response.status_code == 200:\n",
    "            data = response.json()\n",
    "            return data\n",
    "        else:\n",
    "            return 'error'\n",
    "\n",
    "# Initialize the WeatherAPI with the API key from environment variable\n",
    "weather_api = WeatherAPI(os.environ['OPENWEATHER_API_KEY'])\n",
    "\n",
    "# Function to fetch weather information using WeatherAPI\n",
    "def fetch_weather_info(city):\n",
    "    weather_data = weather_api.get_weather(city)\n",
    "    if weather_data == 'error':\n",
    "        return \"Unable to fetch weather information at the moment.\"\n",
    "    main = weather_data['main']\n",
    "    weather_desc = weather_data['weather'][0]['description']\n",
    "    return f\"The weather in {city} is {weather_desc} with a temperature of {main['temp']}°C.\"\n",
    "\n",
    "# Create a Tool for fetching weather data\n",
    "weather_tool = Tool(name='fetch_weather_data', description='Gets weather info', func=fetch_weather_info)\n",
    "\n",
    "# Initialize the SQL database\n",
    "db = SQLDatabase.from_uri('sqlite:///northwind.db')\n",
    "\n",
    "# Initialize the language model\n",
    "llm = ChatOpenAI(model='gpt-3.5-turbo', temperature=0)\n",
    "\n",
    "# Create a toolkit with the database and additional tools\n",
    "toolkit = SQLDatabaseToolkit(db=db, llm=llm, extra_tools=[weather_tool])\n",
    "\n",
    "# Create an agent executor with the language model and toolkit\n",
    "agent_executor = create_sql_agent(llm=llm, toolkit=toolkit, verbose=False)\n",
    "\n",
    "# Invoke the agent to fetch weather information for London\n",
    "result = agent_executor.invoke('What is the weather in London')\n",
    "\n",
    "# Print the result\n",
    "print(result)\n"
   ]
  },
  {
   "cell_type": "code",
   "execution_count": 66,
   "id": "f3fad407-ce69-445d-a779-444d481d3619",
   "metadata": {},
   "outputs": [
    {
     "name": "stderr",
     "output_type": "stream",
     "text": [
      "[NbConvertApp] Converting notebook first.ipynb to script\n",
      "[NbConvertApp] Writing 3878 bytes to first.py\n"
     ]
    }
   ],
   "source": [
    "!jupyter nbconvert --to script first.ipynb"
   ]
  }
 ],
 "metadata": {
  "kernelspec": {
   "display_name": "Python 3 (ipykernel)",
   "language": "python",
   "name": "python3"
  },
  "language_info": {
   "codemirror_mode": {
    "name": "ipython",
    "version": 3
   },
   "file_extension": ".py",
   "mimetype": "text/x-python",
   "name": "python",
   "nbconvert_exporter": "python",
   "pygments_lexer": "ipython3",
   "version": "3.12.3"
  }
 },
 "nbformat": 4,
 "nbformat_minor": 5
}
